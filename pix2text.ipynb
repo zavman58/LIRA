{
  "nbformat": 4,
  "nbformat_minor": 0,
  "metadata": {
    "colab": {
      "provenance": []
    },
    "kernelspec": {
      "name": "python3",
      "display_name": "Python 3"
    },
    "language_info": {
      "name": "python"
    }
  },
  "cells": [
    {
      "cell_type": "code",
      "source": [
        "!pip install pix2text"
      ],
      "metadata": {
        "id": "kGjeB7YAD4pl"
      },
      "execution_count": null,
      "outputs": []
    },
    {
      "cell_type": "code",
      "source": [
        "from pix2text import Pix2Text, merge_line_texts\n",
        "\n",
        "img_fp = 'path file'\n",
        "p2t = Pix2Text()\n",
        "outs = p2t.recognize(img_fp)\n",
        "print(outs)\n",
        "\n",
        "'''\n",
        "- p2t.recognize(img_fp) - распознает текст и формулы одновременно, выводит в формате dict построчно распознавание\n",
        "- p2t.recognize_text(img_fp) - распознает только текст, выводит ответ в формате str, пока только на английском (нужно найти где это изменить)\n",
        "- p2t.recognize_formula(img_fp) - распознает только формулы, выводит ответ в формате str LaTeX код. Для того чтобы проверить работу, заходим на сайт\n",
        "  https://www.overleaf.com\n",
        "'''"
      ],
      "metadata": {
        "id": "mBiBwSpF1CIv"
      },
      "execution_count": null,
      "outputs": []
    }
  ]
}